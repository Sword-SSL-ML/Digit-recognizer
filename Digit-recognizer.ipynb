{
 "cells": [
  {
   "cell_type": "code",
   "execution_count": 123,
   "metadata": {},
   "outputs": [],
   "source": [
    "import pandas\n",
    "import matplotlib.pyplot as plt\n",
    "%matplotlib inline\n",
    "import numpy as np\n",
    "import keras\n",
    "import sklearn as sk\n",
    "from sklearn.model_selection import train_test_split\n",
    "\n",
    "\n",
    "# Based on https://www.kaggle.com/poonaml/deep-neural-network-keras-way"
   ]
  },
  {
   "cell_type": "code",
   "execution_count": 97,
   "metadata": {},
   "outputs": [],
   "source": [
    "test = pandas.read_csv('test.csv');\n",
    "train = pandas.read_csv('train.csv');"
   ]
  },
  {
   "cell_type": "code",
   "execution_count": 98,
   "metadata": {},
   "outputs": [
    {
     "name": "stdout",
     "output_type": "stream",
     "text": [
      "X_train.shape :  (42000, 784)\n",
      "y_train.shape :  (37800,)\n",
      "X_test.shape :  (28000, 784)\n"
     ]
    }
   ],
   "source": [
    "X_train = (train.iloc[:,1:].values).astype('float32') # all pixel values\n",
    "print(\"X_train.shape : \",X_train.shape)\n",
    "Y_train = train.iloc[:,0].values.astype('int32') # only labels i.e targets digits\n",
    "print(\"y_train.shape : \",y_train.shape)\n",
    "X_eval = test.values.astype('float32')\n",
    "print(\"X_test.shape : \",X_test.shape)\n",
    "\n"
   ]
  },
  {
   "cell_type": "code",
   "execution_count": 99,
   "metadata": {},
   "outputs": [
    {
     "data": {
      "image/png": "[encoded data removed]",
      "text/plain": [
       "<matplotlib.figure.Figure at 0x7f7b6c21f940>"
      ]
     },
     "metadata": {},
     "output_type": "display_data"
    }
   ],
   "source": [
    "X_train_rs = X_train.reshape(X_train.shape[0], 28, 28)\n",
    "X_eval_rs = X_eval.reshape(X_eval.shape[0], 28, 28)\n",
    "for i in range(6, 9):\n",
    "    plt.subplot(330 + (i+1))\n",
    "    plt.imshow(X_train_rs[i], cmap=plt.get_cmap('gray'))\n",
    "    plt.title(y_train[i]);"
   ]
  },
  {
   "cell_type": "code",
   "execution_count": 100,
   "metadata": {},
   "outputs": [],
   "source": [
    "x_train, x_val, y_train, y_val = train_test_split(X_train, Y_train, test_size=0.10, random_state=42)\n",
    "x_train_rs, x_val_rs = x_train.reshape(x_train.shape[0], 28, 28,1), x_val.reshape(x_val.shape[0], 28, 28,1)"
   ]
  },
  {
   "cell_type": "code",
   "execution_count": 101,
   "metadata": {},
   "outputs": [
    {
     "name": "stdout",
     "output_type": "stream",
     "text": [
      "y_train.shape (37800,)\n",
      "y_train.shape (37800, 10)\n"
     ]
    }
   ],
   "source": [
    "from keras.utils.np_utils import to_categorical\n",
    "import random\n",
    "\n",
    "print(\"y_train.shape\",y_train.shape)\n",
    "y_train= to_categorical(y_train)\n",
    "y_val= to_categorical(y_val)\n",
    "print(\"y_train.shape\",y_train.shape)"
   ]
  },
  {
   "cell_type": "code",
   "execution_count": null,
   "metadata": {},
   "outputs": [],
   "source": [
    "mean_px = X_train_rs.mean().astype(np.float32)\n",
    "std_px = X_train_rs.std().astype(np.float32)\n",
    "\n",
    "def standardize(x): \n",
    "    return (x-mean_px)/std_px\n"
   ]
  },
  {
   "cell_type": "code",
   "execution_count": 138,
   "metadata": {},
   "outputs": [],
   "source": [
    "from keras.models import Sequential\n",
    "from keras.layers.core import  Lambda , Dense, Flatten, Dropout\n",
    "from keras.optimizers import RMSprop\n",
    "from keras.layers import Conv2D\n",
    "\n",
    "model = Sequential()\n",
    "model.add(Lambda(standardize,input_shape=(28,28,1)))\n",
    "#model.add(Flatten())\n",
    "model.add(Conv2D(filters = 10,kernel_size=(3,3),input_shape=(28,28,1)))\n",
    "model.add(Flatten())\n",
    "model.add(Dense(units=10, activation='softmax'))\n",
    "model.compile(loss='categorical_crossentropy',\n",
    "              optimizer=RMSprop(lr=0.001),\n",
    "              metrics=['accuracy'])\n"
   ]
  },
  {
   "cell_type": "code",
   "execution_count": 139,
   "metadata": {},
   "outputs": [
    {
     "name": "stdout",
     "output_type": "stream",
     "text": [
      "Epoch 1/10\n",
      "37800/37800 [==============================] - 11s 300us/step - loss: 1.5575 - acc: 0.8523\n",
      "Epoch 2/10\n",
      "37800/37800 [==============================] - 11s 287us/step - loss: 1.9898 - acc: 0.8681\n",
      "Epoch 3/10\n",
      "37800/37800 [==============================] - 11s 290us/step - loss: 1.9599 - acc: 0.8738\n",
      "Epoch 4/10\n",
      "37800/37800 [==============================] - 11s 288us/step - loss: 1.9863 - acc: 0.8734\n",
      "Epoch 5/10\n",
      "37800/37800 [==============================] - 11s 288us/step - loss: 2.0795 - acc: 0.8689\n",
      "Epoch 6/10\n",
      "37800/37800 [==============================] - 11s 286us/step - loss: 1.9368 - acc: 0.8776\n",
      "Epoch 7/10\n",
      "37800/37800 [==============================] - 11s 286us/step - loss: 1.8085 - acc: 0.8863\n",
      "Epoch 8/10\n",
      "37800/37800 [==============================] - 11s 285us/step - loss: 1.9292 - acc: 0.8785\n",
      "Epoch 9/10\n",
      "37800/37800 [==============================] - 11s 286us/step - loss: 1.8989 - acc: 0.8810\n",
      "Epoch 10/10\n",
      "37800/37800 [==============================] - 11s 286us/step - loss: 1.8085 - acc: 0.8864\n"
     ]
    },
    {
     "data": {
      "text/plain": [
       "<keras.callbacks.History at 0x7f7b7a36cb70>"
      ]
     },
     "execution_count": 139,
     "metadata": {},
     "output_type": "execute_result"
    }
   ],
   "source": [
    "model.fit(x_train_rs, y_train,epochs=10)"
   ]
  },
  {
   "cell_type": "code",
   "execution_count": 140,
   "metadata": {},
   "outputs": [
    {
     "name": "stdout",
     "output_type": "stream",
     "text": [
      "4200/4200 [==============================] - 1s 186us/step\n",
      "loss 1.8379085622514997\n",
      "acc 0.8842857142857142\n"
     ]
    }
   ],
   "source": [
    "loss_and_metrics = model.evaluate(x_val_rs, y_val)\n",
    "print(\"loss\",loss_and_metrics[0])\n",
    "print(\"acc\",loss_and_metrics[1])"
   ]
  },
  {
   "cell_type": "code",
   "execution_count": 133,
   "metadata": {},
   "outputs": [],
   "source": [
    "model_dense = Sequential()\n",
    "model_dense.add(Lambda(standardize,input_shape=(28,28,1)))\n",
    "model_dense.add(Flatten())\n",
    "model_dense.add(Dense(units=100, activation='tanh'))\n",
    "model_dense.add(Dropout(0.1))\n",
    "model_dense.add(Dense(units=10, activation='softmax'))\n",
    "model_dense.compile(loss='categorical_crossentropy',\n",
    "              optimizer=RMSprop(lr=0.001),\n",
    "              metrics=['accuracy'])\n"
   ]
  },
  {
   "cell_type": "code",
   "execution_count": 134,
   "metadata": {},
   "outputs": [
    {
     "name": "stdout",
     "output_type": "stream",
     "text": [
      "Epoch 1/10\n",
      "37800/37800 [==============================] - 3s 77us/step - loss: 0.3036 - acc: 0.9093\n",
      "Epoch 2/10\n",
      "37800/37800 [==============================] - 3s 68us/step - loss: 0.1662 - acc: 0.9502\n",
      "Epoch 3/10\n",
      "37800/37800 [==============================] - 3s 70us/step - loss: 0.1324 - acc: 0.9604\n",
      "Epoch 4/10\n",
      "37800/37800 [==============================] - 3s 68us/step - loss: 0.1096 - acc: 0.9671\n",
      "Epoch 5/10\n",
      "37800/37800 [==============================] - 3s 69us/step - loss: 0.0949 - acc: 0.9715\n",
      "Epoch 6/10\n",
      "37800/37800 [==============================] - 3s 68us/step - loss: 0.0857 - acc: 0.9742\n",
      "Epoch 7/10\n",
      "37800/37800 [==============================] - 3s 71us/step - loss: 0.0768 - acc: 0.9763\n",
      "Epoch 8/10\n",
      "37800/37800 [==============================] - 3s 69us/step - loss: 0.0701 - acc: 0.9786\n",
      "Epoch 9/10\n",
      "37800/37800 [==============================] - 3s 69us/step - loss: 0.0645 - acc: 0.9797\n",
      "Epoch 10/10\n",
      "37800/37800 [==============================] - 3s 68us/step - loss: 0.0608 - acc: 0.9809\n"
     ]
    },
    {
     "data": {
      "text/plain": [
       "<keras.callbacks.History at 0x7f7b7a9139b0>"
      ]
     },
     "execution_count": 134,
     "metadata": {},
     "output_type": "execute_result"
    }
   ],
   "source": [
    "model_dense.fit(x_train_rs, y_train,epochs=10)"
   ]
  },
  {
   "cell_type": "code",
   "execution_count": 135,
   "metadata": {},
   "outputs": [
    {
     "name": "stdout",
     "output_type": "stream",
     "text": [
      "4200/4200 [==============================] - 0s 65us/step\n",
      "loss 0.11138992428363834\n",
      "acc 0.9683333333333334\n"
     ]
    }
   ],
   "source": [
    "loss_and_metrics = model_dense.evaluate(x_val_rs, y_val)\n",
    "print(\"loss\",loss_and_metrics[0])\n",
    "print(\"acc\",loss_and_metrics[1])"
   ]
  },
  {
   "cell_type": "code",
   "execution_count": null,
   "metadata": {},
   "outputs": [],
   "source": []
  }
 ],
 "metadata": {
  "kernelspec": {
   "display_name": "Python 3",
   "language": "python",
   "name": "python3"
  },
  "language_info": {
   "codemirror_mode": {
    "name": "ipython",
    "version": 3
   },
   "file_extension": ".py",
   "mimetype": "text/x-python",
   "name": "python",
   "nbconvert_exporter": "python",
   "pygments_lexer": "ipython3",
   "version": "3.5.3"
  }
 },
 "nbformat": 4,
 "nbformat_minor": 2
}
